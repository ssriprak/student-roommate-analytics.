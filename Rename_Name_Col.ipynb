{
 "cells": [
  {
   "cell_type": "code",
   "execution_count": 5,
   "id": "f558ff16",
   "metadata": {},
   "outputs": [
    {
     "name": "stdout",
     "output_type": "stream",
     "text": [
      "      Name Age  Gender        State        City             Program_Name  \\\n",
      "0   B Jose  25    male       Delhi   New Delhi                      MSBA   \n",
      "1  A Kathi  25  female  Maharashtra      Mumbai      MGM in Data Science   \n",
      "2  A Agraw  22    male    Rajasthan     Udaipur  MS Software Engineering   \n",
      "3  K Kadam  22    male  Maharashtra        Pune                     MSCS   \n",
      "4   V Soni  23    male   Rajasthan      Jodhpur                    MS CS   \n",
      "\n",
      "                                 UG_College  Work_Experience   Roommate_Pref  \\\n",
      "0                        Christ University               3.0  doesn't matter   \n",
      "1  Thunderbird school of Global Management               3.0          female   \n",
      "2                                    DAIICT              1.0            male   \n",
      "3     Pune Institute of Computer Technology              0.0  doesn't matter   \n",
      "4                              BITS- Pilani              0.0  doesn't matter   \n",
      "\n",
      "  Food_Pref        Smoker Alcohol_Friendly Loud_Music_Allowed  \\\n",
      "0   non veg            no              yes   living area only   \n",
      "1   non veg  occasionally     occasionally               room   \n",
      "2   non veg            no     occasionally   living area only   \n",
      "3   non veg            no     occasionally   living area only   \n",
      "4   non veg            no              yes               room   \n",
      "\n",
      "           Looking_At Notes Deposit_Paid ASU_Campus  \n",
      "0  off-campus housing   NaN          yes      tempe  \n",
      "1  off-campus housing   NaN           no        NaN  \n",
      "2  off-campus housing   NaN           no        NaN  \n",
      "3  off-campus housing   NaN           no      Tempe  \n",
      "4  off-campus housing   NaN           no        NaN  \n",
      "✅ Cleaned file saved as cleaned_names.csv\n"
     ]
    }
   ],
   "source": [
    "import pandas as pd\n",
    "\n",
    "# --- Step 1: Load your CSV file ---\n",
    "df = pd.read_csv(\"Roomate_Check.csv\")\n",
    "\n",
    "# --- Step 2: Drop the Timestamp column ---\n",
    "if \"Timestamp\" in df.columns:\n",
    "    df = df.drop(columns=[\"Timestamp\"])\n",
    "\n",
    "# --- Step 3: Clean / rename column names ---\n",
    "rename_map = {\n",
    "    \"name\": \"Name\",\n",
    "    \"age\": \"Age\",\n",
    "    \"gender\": \"Gender\",\n",
    "    \"state\": \"State\",\n",
    "    \"city\": \"City\",\n",
    "    \"prog. name\": \"Program_Name\",\n",
    "    \"ug college\": \"UG_College\",\n",
    "    \"work exp\": \"Work_Experience\",\n",
    "    \"preferences for room-mates\": \"Roommate_Pref\",\n",
    "    \"food preferences\": \"Food_Pref\",\n",
    "    \"smoker\": \"Smoker\",\n",
    "    \"alcohol friendly\": \"Alcohol_Friendly\",\n",
    "    \"loud music allowed\": \"Loud_Music_Allowed\",\n",
    "    \"looking at \": \"Looking_At\",\n",
    "    \"any extra preferences/notes...\": \"Notes\",\n",
    "    \"whatsapp number\": \"WhatsApp\",\n",
    "    \"deposit paid\": \"Deposit_Paid\",\n",
    "    \"asu campus\": \"ASU_Campus\"\n",
    "}\n",
    "\n",
    "# Only rename matching columns\n",
    "df = df.rename(columns={col: rename_map[col.lower()] for col in df.columns if col.lower() in rename_map})\n",
    "\n",
    "# --- Step 4: Define the name transformation function ---\n",
    "def transform_name(fullname: str) -> str:\n",
    "    if pd.isna(fullname):\n",
    "        return fullname\n",
    "    parts = fullname.strip().split()\n",
    "    if len(parts) < 2:\n",
    "        return fullname  # leave as-is if only one part\n",
    "    first, last = parts[0], parts[-1]\n",
    "    return f\"{first[0]} {last[:5]}\"   # e.g., Saujanya Sriprakash → S Sripr\n",
    "\n",
    "# --- Step 5: Apply transformation ---\n",
    "df[\"Name\"] = df[\"Name\"].apply(transform_name)\n",
    "\n",
    "# --- Step 6: Preview and save cleaned data ---\n",
    "print(df.head())\n",
    "df.to_csv(\"cleaned_names.csv\", index=False)\n",
    "print(\"✅ Cleaned file saved as cleaned_names.csv\")"
   ]
  },
  {
   "cell_type": "code",
   "execution_count": null,
   "id": "90fb8d81",
   "metadata": {},
   "outputs": [],
   "source": []
  }
 ],
 "metadata": {
  "kernelspec": {
   "display_name": "Python 3 (ipykernel)",
   "language": "python",
   "name": "python3"
  },
  "language_info": {
   "codemirror_mode": {
    "name": "ipython",
    "version": 3
   },
   "file_extension": ".py",
   "mimetype": "text/x-python",
   "name": "python",
   "nbconvert_exporter": "python",
   "pygments_lexer": "ipython3",
   "version": "3.11.5"
  }
 },
 "nbformat": 4,
 "nbformat_minor": 5
}
